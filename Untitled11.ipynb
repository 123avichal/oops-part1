{
 "cells": [
  {
   "cell_type": "markdown",
   "id": "5c01a282-f4c5-493a-a26c-739b0ee247f1",
   "metadata": {
    "tags": []
   },
   "source": [
    "## \n",
    "Problem 1: Bank Account Create a class representing a bank account with attributes like account number, account holder name, and balance. Implement methods to deposit and withdraw money from the account.\n",
    "\n",
    "Problem 2: Employee Management Create a class representing an employee with attributes like employee ID, name, and salary. Implement methods to calculate the yearly bonus and display employee details.\n",
    "\n",
    "Problem 3: Vehicle Rental Create a class representing a vehicle rental system. Implement methods to rent a vehicle, return a vehicle, and display available vehicles.\n",
    "\n",
    "Problem 4: Library Catalog Create classes representing a library and a book. Implement methods to add books to the library, borrow books, and display available books.\n",
    "\n",
    "Problem 5: Product Inventory Create classes representing a product and an inventory system. Implement methods to add products to the inventory, update product quantity, and display available products.\n",
    "\n",
    "Problem 6: Shape Calculation Create a class representing a shape with attributes like length, width, and height. Implement methods to calculate the area and perimeter of the shape.\n",
    "\n",
    "Problem 7: Student Management Create a class representing a student with attributes like student ID, name, and grades. Implement methods to calculate the average grade and display student details.\n",
    "\n",
    "Problem 8: Email Management Create a class representing an email with attributes like sender, recipient, and subject. Implement methods to send an email and display email details.\n",
    "\n",
    "Problem 9: Social Media Profile Create a class representing a social media profile with attributes like username and posts. Implement methods to add posts, display posts, and search for posts by keyword.\n",
    "\n",
    "Problem 10: ToDo List Create a class representing a ToDo list with attributes like tasks and due dates. Implement methods to add tasks, mark tasks as completed, and display pending tasks."
   ]
  },
  {
   "cell_type": "markdown",
   "id": "c4019604-342f-4157-a79d-65abb07acf74",
   "metadata": {},
   "source": [
    "Problem 1: Bank Account Create a class representing a bank account with attributes like account number, account holder name, and balance. Implement methods to deposit and withdraw money from the account."
   ]
  },
  {
   "cell_type": "code",
   "execution_count": 189,
   "id": "8f5d3bc3-8668-4fb0-bc96-3a7d99a98563",
   "metadata": {},
   "outputs": [],
   "source": [
    "class bank_account:\n",
    "    def __init__(self,account_holder_name,account_number,balance):\n",
    "        self.account_holder_name=account_holder_name\n",
    "        self.account_number=account_number\n",
    "        self.balance=balance\n",
    "    \n",
    "    def deposit(self,amount):\n",
    "        self.balance=self.balance+amount\n",
    "    def withdrwal(self,amount):\n",
    "        self.balance=self.balance-amount\n",
    "        return self.balance\n",
    "    \n",
    "    def balance(self):\n",
    "        self.balance"
   ]
  },
  {
   "cell_type": "code",
   "execution_count": 190,
   "id": "05581f20-0abe-4fd6-a126-acea00cda443",
   "metadata": {},
   "outputs": [],
   "source": [
    "avichal=bank_account('Avichal saxena',236562467232,1000)"
   ]
  },
  {
   "cell_type": "code",
   "execution_count": 191,
   "id": "538b8525-64f0-4f8b-bf32-d65bf741b529",
   "metadata": {},
   "outputs": [],
   "source": [
    "avichal.deposit(1100)"
   ]
  },
  {
   "cell_type": "code",
   "execution_count": 192,
   "id": "2fa4d1f3-30c1-42dd-9f19-cfc2cbeee5a4",
   "metadata": {},
   "outputs": [
    {
     "data": {
      "text/plain": [
       "1900"
      ]
     },
     "execution_count": 192,
     "metadata": {},
     "output_type": "execute_result"
    }
   ],
   "source": [
    "avichal.withdrwal(200)"
   ]
  },
  {
   "cell_type": "code",
   "execution_count": 193,
   "id": "eb44813f-02af-431c-866b-fec76753bb1f",
   "metadata": {},
   "outputs": [
    {
     "data": {
      "text/plain": [
       "1900"
      ]
     },
     "execution_count": 193,
     "metadata": {},
     "output_type": "execute_result"
    }
   ],
   "source": [
    "avichal.balance"
   ]
  },
  {
   "cell_type": "markdown",
   "id": "541e22d6-6abb-4323-ba4b-0968ab8cf484",
   "metadata": {},
   "source": [
    "Problem 2: Employee Management Create a class representing an employee with attributes like employee ID, name, and salary. Implement methods to calculate the yearly bonus and display employee details."
   ]
  },
  {
   "cell_type": "code",
   "execution_count": 194,
   "id": "7d5fefaa-e57e-47f6-a3eb-82318375275b",
   "metadata": {},
   "outputs": [
    {
     "name": "stdin",
     "output_type": "stream",
     "text": [
      "enter the salary 30000\n"
     ]
    },
    {
     "name": "stdout",
     "output_type": "stream",
     "text": [
      "bonus of employye 2499.0\n"
     ]
    }
   ],
   "source": [
    "class employee:\n",
    "    def __init__(self,employee_ID, name):\n",
    "        self.employee_ID=employee_ID\n",
    "        self.name=name\n",
    "        self.salary=int(input('enter the salary'))\n",
    "    def bonus(self):\n",
    "        return self.salary*8.33/100\n",
    "\n",
    "avichal=employee(1378,'Avichal saxena')\n",
    "print('bonus of employye',avichal.bonus())"
   ]
  },
  {
   "cell_type": "markdown",
   "id": "791fc6d6-eecd-4926-8263-eb23bd37f69f",
   "metadata": {},
   "source": [
    "Problem 4: Library Catalog Create classes representing a library and a book. Implement methods to add books to the library, borrow books, and display available books."
   ]
  },
  {
   "cell_type": "code",
   "execution_count": 195,
   "id": "0f79614f-8b3c-43e5-8e00-2ef6ed645b10",
   "metadata": {},
   "outputs": [],
   "source": [
    "class library:\n",
    "    def __init__(self,library_name,library_deposit):\n",
    "        self.library_name=library_name\n",
    "        self.library_deposit=library_deposit\n",
    "    \n",
    "    def add_book(self,add_books_to_library):\n",
    "        self.library_deposit=self.library_deposit+add_books_to_library\n",
    "        return self.library_deposit\n",
    "    \n",
    "    def borrow_book(self,add_books_to_library):\n",
    "        self.library_deposit=self.library_deposit-add_books_to_library\n",
    "        return self.library_deposit\n",
    "    \n",
    "    def balance(self):\n",
    "        self.library_deposit\n",
    "       "
   ]
  },
  {
   "cell_type": "code",
   "execution_count": 196,
   "id": "571731b0-74b0-446a-85c4-f39f346ef5f5",
   "metadata": {},
   "outputs": [],
   "source": [
    "a=library('destination',0)"
   ]
  },
  {
   "cell_type": "code",
   "execution_count": 197,
   "id": "959c19a2-2212-4ec3-97d7-3f197b48488f",
   "metadata": {},
   "outputs": [
    {
     "data": {
      "text/plain": [
       "1000"
      ]
     },
     "execution_count": 197,
     "metadata": {},
     "output_type": "execute_result"
    }
   ],
   "source": [
    "a.add_book(1000)"
   ]
  },
  {
   "cell_type": "code",
   "execution_count": 198,
   "id": "9b29f978-3bc5-49ef-b47d-7e0f989a4f18",
   "metadata": {},
   "outputs": [
    {
     "data": {
      "text/plain": [
       "980"
      ]
     },
     "execution_count": 198,
     "metadata": {},
     "output_type": "execute_result"
    }
   ],
   "source": [
    "a.borrow_book(20)"
   ]
  },
  {
   "cell_type": "markdown",
   "id": "cf671316-eca7-4940-b06e-e2d450ce9f69",
   "metadata": {},
   "source": [
    "Problem 6: Shape Calculation Create a class representing a shape with attributes like length, width, and height. Implement methods to calculate the area and perimeter of the shape."
   ]
  },
  {
   "cell_type": "code",
   "execution_count": 199,
   "id": "ec4453a7-74ac-40b8-bb52-df2de770e98c",
   "metadata": {},
   "outputs": [],
   "source": [
    "class Shape:\n",
    "    def __init__(self,length,width,height):\n",
    "        self.length=length\n",
    "        self.width=width\n",
    "        self.height=height\n",
    "    def area_rectangle(self):\n",
    "        return self.length*self.width\n",
    "    def peri_rectangle(self):\n",
    "        return 2*(self.length+self.width)\n",
    "    def area_triangle(self):\n",
    "        return 1/2*self.width*self.height\n",
    "    def perimeter_triangle(self):\n",
    "        return self.length+self.width+self.height        "
   ]
  },
  {
   "cell_type": "code",
   "execution_count": 200,
   "id": "707dfb76-17dd-4c4f-9152-feea0b883461",
   "metadata": {},
   "outputs": [],
   "source": [
    "Shape=Shape(2,3,5)"
   ]
  },
  {
   "cell_type": "code",
   "execution_count": 201,
   "id": "c16f44d1-a50d-4449-8519-f0c75df5dd1c",
   "metadata": {},
   "outputs": [
    {
     "data": {
      "text/plain": [
       "6"
      ]
     },
     "execution_count": 201,
     "metadata": {},
     "output_type": "execute_result"
    }
   ],
   "source": [
    "Shape.area_rectangle()"
   ]
  },
  {
   "cell_type": "code",
   "execution_count": 202,
   "id": "a822fcd6-9a8c-49dc-bfd0-ac9b45153c73",
   "metadata": {},
   "outputs": [
    {
     "data": {
      "text/plain": [
       "10"
      ]
     },
     "execution_count": 202,
     "metadata": {},
     "output_type": "execute_result"
    }
   ],
   "source": [
    "Shape.peri_rectangle()"
   ]
  },
  {
   "cell_type": "markdown",
   "id": "9cd1b094-f0e3-4520-9b4b-14d5e221e8b7",
   "metadata": {},
   "source": [
    "Problem 7: Student Management Create a class representing a student with attributes like student ID, name, and grades. Implement methods to calculate the average grade and display student details."
   ]
  },
  {
   "cell_type": "code",
   "execution_count": 203,
   "id": "f49469a9-5a63-43ea-8c2a-1095c2bdbe9f",
   "metadata": {},
   "outputs": [
    {
     "name": "stdout",
     "output_type": "stream",
     "text": [
      "student name mukesh\n",
      "student id  1256\n",
      "grade c 1256 mukesh\n",
      "None\n"
     ]
    }
   ],
   "source": [
    "class student:\n",
    "    def __init__(self,student_id,name):\n",
    "        self.student_id=student_id\n",
    "        self.name=name\n",
    "        self.sub_marks1=50\n",
    "        self.sub_marks2=80\n",
    "        self.sub_marks3=78\n",
    "        self.sub_marks4=68\n",
    "        \n",
    "    def avg_grade(self):\n",
    "        if self.sub_marks1+self.sub_marks2+self.sub_marks3+self.sub_marks4/4>=40:\n",
    "            print('grade c',self.student_id,self.name)\n",
    "        elif self.sub_marks1+self.sub_marks2+self.sub_marks3+self.sub_marks4/4>=70:\n",
    "            print('grade b',self.student_id,self.name)\n",
    "        elif self.sub_marks1+self.sub_marks2+self.sub_marks3+self.sub_marks4/4>=90:\n",
    "            print('grade A',self.student_id,self.name)\n",
    "\n",
    "            \n",
    "studentA= student(1256,'mukesh') \n",
    "\n",
    "print('student name',studentA.name)\n",
    "print('student id ',studentA.student_id)\n",
    "print(studentA.avg_grade())"
   ]
  },
  {
   "cell_type": "markdown",
   "id": "31422486-d77b-4c07-9e82-ef55a14a3f8e",
   "metadata": {},
   "source": [
    "Problem 3: Vehicle Rental Create a class representing a vehicle rental system. Implement methods to rent a vehicle, return a vehicle, and display available vehicles."
   ]
  },
  {
   "cell_type": "code",
   "execution_count": 204,
   "id": "2721ba1d-8507-4c11-8ab4-d81c2b36dcc7",
   "metadata": {},
   "outputs": [],
   "source": [
    "try:\n",
    "    class vehicle:\n",
    "        def __init__(self,available_vehicle):\n",
    "            self.available_vehicle=available_vehicle\n",
    " \n",
    "        def deposit_vehicle(self,add):\n",
    "            self.available_vehicle=self.available_vehicle+add\n",
    "            return self.available_vehicle\n",
    "    \n",
    "        def rent_vehicle(self,add):\n",
    "            self.available_vehicle=self.available_vehicle - add\n",
    "    \n",
    "        def available_vehicle(self):\n",
    "            self.available_vehicle\n",
    "            \n",
    "\n",
    "except Exception as e:\n",
    "    print(e)"
   ]
  },
  {
   "cell_type": "code",
   "execution_count": 205,
   "id": "de1a79c6-2bb8-48af-a9da-ae7556c327a6",
   "metadata": {},
   "outputs": [],
   "source": [
    "vehicle=vehicle(100)"
   ]
  },
  {
   "cell_type": "code",
   "execution_count": 206,
   "id": "d8fe4b18-d5ac-44f7-9c02-97f302e2f7bb",
   "metadata": {},
   "outputs": [
    {
     "data": {
      "text/plain": [
       "100"
      ]
     },
     "execution_count": 206,
     "metadata": {},
     "output_type": "execute_result"
    }
   ],
   "source": [
    "vehicle.available_vehicle"
   ]
  },
  {
   "cell_type": "code",
   "execution_count": 207,
   "id": "64b339e1-41b1-428b-b835-976435a3ece3",
   "metadata": {},
   "outputs": [],
   "source": [
    "vehicle.rent_vehicle(10)"
   ]
  },
  {
   "cell_type": "code",
   "execution_count": 208,
   "id": "0c0feeb5-f82f-4f51-a085-0c7e88fdd69d",
   "metadata": {},
   "outputs": [
    {
     "data": {
      "text/plain": [
       "90"
      ]
     },
     "execution_count": 208,
     "metadata": {},
     "output_type": "execute_result"
    }
   ],
   "source": [
    "vehicle.available_vehicle"
   ]
  },
  {
   "cell_type": "code",
   "execution_count": 209,
   "id": "a404ccef-2dea-415c-8fc4-7d279a854f2d",
   "metadata": {},
   "outputs": [
    {
     "data": {
      "text/plain": [
       "100"
      ]
     },
     "execution_count": 209,
     "metadata": {},
     "output_type": "execute_result"
    }
   ],
   "source": [
    "vehicle.deposit_vehicle(10)"
   ]
  },
  {
   "cell_type": "code",
   "execution_count": 210,
   "id": "abd6061a-44c9-49eb-8a22-b699cd1d78f9",
   "metadata": {},
   "outputs": [
    {
     "data": {
      "text/plain": [
       "100"
      ]
     },
     "execution_count": 210,
     "metadata": {},
     "output_type": "execute_result"
    }
   ],
   "source": [
    "vehicle.available_vehicle"
   ]
  },
  {
   "cell_type": "markdown",
   "id": "946f4d24-8554-480e-b702-785dff424b1c",
   "metadata": {},
   "source": [
    "Problem 8: Email Management Create a class representing an email with attributes like sender, recipient, and subject. Implement methods to send an email and display email details."
   ]
  },
  {
   "cell_type": "code",
   "execution_count": 211,
   "id": "10ad8704-ff60-4560-a379-ac736c67cd51",
   "metadata": {},
   "outputs": [],
   "source": [
    "class email_management:\n",
    "    def __init__(self,sender,recipient,subject):\n",
    "        self.sender=sender\n",
    "        self.recipient=recipient\n",
    "        self.subject=subject\n",
    "    def send_email(self):\n",
    "        print('email is directed by',self.sender)\n",
    "    def message(self):\n",
    "        print('the message is ', self.subject)\n",
    "    def recipient(self):\n",
    "        print('email is directed to',self.recipient)"
   ]
  },
  {
   "cell_type": "code",
   "execution_count": 212,
   "id": "176fa6de-3539-4474-9ee1-d8d3847b80c1",
   "metadata": {},
   "outputs": [],
   "source": [
    "email_management=email_management('abc@gmail.com','bdf@gmail.com','regarding offer letter')"
   ]
  },
  {
   "cell_type": "code",
   "execution_count": 213,
   "id": "99b11e00-49f6-415b-9f62-f7e876369673",
   "metadata": {},
   "outputs": [
    {
     "name": "stdout",
     "output_type": "stream",
     "text": [
      "the message is  regarding offer letter\n"
     ]
    }
   ],
   "source": [
    "email_management.message()"
   ]
  },
  {
   "cell_type": "code",
   "execution_count": 214,
   "id": "b2687592-67f1-4b4b-9338-5749ada69fb6",
   "metadata": {},
   "outputs": [
    {
     "name": "stdout",
     "output_type": "stream",
     "text": [
      "email is directed by abc@gmail.com\n"
     ]
    }
   ],
   "source": [
    "email_management.send_email()"
   ]
  },
  {
   "cell_type": "code",
   "execution_count": 215,
   "id": "4341b769-a504-43e7-bba6-9dc7a86c101a",
   "metadata": {},
   "outputs": [
    {
     "data": {
      "text/plain": [
       "'bdf@gmail.com'"
      ]
     },
     "execution_count": 215,
     "metadata": {},
     "output_type": "execute_result"
    }
   ],
   "source": [
    "email_management.recipient"
   ]
  },
  {
   "cell_type": "markdown",
   "id": "f6afb368-5c9e-4205-adf5-e92bc5c44aad",
   "metadata": {},
   "source": []
  },
  {
   "cell_type": "code",
   "execution_count": null,
   "id": "752b7c8a-65fc-432e-86a0-19d04b58e0cb",
   "metadata": {},
   "outputs": [],
   "source": []
  },
  {
   "cell_type": "code",
   "execution_count": null,
   "id": "3820d62e-6421-450a-9e91-38cfa3aa4219",
   "metadata": {},
   "outputs": [],
   "source": []
  }
 ],
 "metadata": {
  "kernelspec": {
   "display_name": "Python 3 (ipykernel)",
   "language": "python",
   "name": "python3"
  },
  "language_info": {
   "codemirror_mode": {
    "name": "ipython",
    "version": 3
   },
   "file_extension": ".py",
   "mimetype": "text/x-python",
   "name": "python",
   "nbconvert_exporter": "python",
   "pygments_lexer": "ipython3",
   "version": "3.10.8"
  }
 },
 "nbformat": 4,
 "nbformat_minor": 5
}
